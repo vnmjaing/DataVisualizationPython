{
 "cells": [
  {
   "cell_type": "markdown",
   "id": "de46ef7d",
   "metadata": {},
   "source": [
    "## A step-by-step guide to Data Visualizations in Python\n",
    "\n",
    "Follow along with [this article](https://medium.com/codex/step-by-step-guide-to-data-visualizations-in-python-b322129a1540).  We will be using [this .xlsx dataset](https://www.kaggle.com/roshansharma/immigration-to-canada-ibm-dataset) from Kaggle on Immigration to Canada from 1980–2013. No need to dowload it, it is already in the git repositroy you forked.<br>\n",
    "\n",
    "#### We suggest that instead of copy and pasting the code, you type it out.  This will help you become more familiar with the syntex and better understand it.\n"
   ]
  },
  {
   "cell_type": "markdown",
   "id": "36f3869c",
   "metadata": {},
   "source": [
    "### Step-1: Importing Packages"
   ]
  },
  {
   "cell_type": "code",
   "execution_count": 1,
   "id": "cad80a84",
   "metadata": {},
   "outputs": [],
   "source": [
    "#import all librarys and modules needed\n",
    "import pandas as pd\n",
    "import numpy as np\n",
    "import matplotlib.pyplot as plt\n",
    "import seaborn as sb\n",
    "from matplotlib import style\n",
    "\n",
    "style.use('ggplot')\n",
    "plt.rcParams['figure.figsize'] = (20,10)\n"
   ]
  },
  {
   "cell_type": "markdown",
   "id": "9e475669",
   "metadata": {},
   "source": [
    "### Step-2 : Importing and Cleaning Data "
   ]
  },
  {
   "cell_type": "code",
   "execution_count": 11,
   "id": "725a3f37",
   "metadata": {},
   "outputs": [],
   "source": [
    "#import and clean data, remember path is data/Canada.xlsx\n",
    "df = pd.read_excel('Data\\Canada.xlsx',2) #, skiprows = range(20), skipfooter = 2)"
   ]
  },
  {
   "cell_type": "code",
   "execution_count": 12,
   "id": "65dce4a8",
   "metadata": {},
   "outputs": [
    {
     "data": {
      "text/html": [
       "<div>\n",
       "<style scoped>\n",
       "    .dataframe tbody tr th:only-of-type {\n",
       "        vertical-align: middle;\n",
       "    }\n",
       "\n",
       "    .dataframe tbody tr th {\n",
       "        vertical-align: top;\n",
       "    }\n",
       "\n",
       "    .dataframe thead th {\n",
       "        text-align: right;\n",
       "    }\n",
       "</style>\n",
       "<table border=\"1\" class=\"dataframe\">\n",
       "  <thead>\n",
       "    <tr style=\"text-align: right;\">\n",
       "      <th></th>\n",
       "      <th>Type</th>\n",
       "      <th>Coverage</th>\n",
       "      <th>OdName</th>\n",
       "      <th>AREA</th>\n",
       "      <th>AreaName</th>\n",
       "      <th>REG</th>\n",
       "      <th>RegName</th>\n",
       "      <th>DEV</th>\n",
       "      <th>DevName</th>\n",
       "      <th>1980</th>\n",
       "      <th>...</th>\n",
       "      <th>2004</th>\n",
       "      <th>2005</th>\n",
       "      <th>2006</th>\n",
       "      <th>2007</th>\n",
       "      <th>2008</th>\n",
       "      <th>2009</th>\n",
       "      <th>2010</th>\n",
       "      <th>2011</th>\n",
       "      <th>2012</th>\n",
       "      <th>2013</th>\n",
       "    </tr>\n",
       "  </thead>\n",
       "  <tbody>\n",
       "    <tr>\n",
       "      <th>0</th>\n",
       "      <td>Immigrants</td>\n",
       "      <td>Foreigners</td>\n",
       "      <td>Afghanistan</td>\n",
       "      <td>935</td>\n",
       "      <td>Asia</td>\n",
       "      <td>5501</td>\n",
       "      <td>Southern Asia</td>\n",
       "      <td>902</td>\n",
       "      <td>Developing regions</td>\n",
       "      <td>16</td>\n",
       "      <td>...</td>\n",
       "      <td>2978</td>\n",
       "      <td>3436</td>\n",
       "      <td>3009</td>\n",
       "      <td>2652</td>\n",
       "      <td>2111</td>\n",
       "      <td>1746</td>\n",
       "      <td>1758</td>\n",
       "      <td>2203</td>\n",
       "      <td>2635</td>\n",
       "      <td>2004</td>\n",
       "    </tr>\n",
       "    <tr>\n",
       "      <th>1</th>\n",
       "      <td>Immigrants</td>\n",
       "      <td>Foreigners</td>\n",
       "      <td>Albania</td>\n",
       "      <td>908</td>\n",
       "      <td>Europe</td>\n",
       "      <td>925</td>\n",
       "      <td>Southern Europe</td>\n",
       "      <td>901</td>\n",
       "      <td>Developed regions</td>\n",
       "      <td>1</td>\n",
       "      <td>...</td>\n",
       "      <td>1450</td>\n",
       "      <td>1223</td>\n",
       "      <td>856</td>\n",
       "      <td>702</td>\n",
       "      <td>560</td>\n",
       "      <td>716</td>\n",
       "      <td>561</td>\n",
       "      <td>539</td>\n",
       "      <td>620</td>\n",
       "      <td>603</td>\n",
       "    </tr>\n",
       "    <tr>\n",
       "      <th>2</th>\n",
       "      <td>Immigrants</td>\n",
       "      <td>Foreigners</td>\n",
       "      <td>Algeria</td>\n",
       "      <td>903</td>\n",
       "      <td>Africa</td>\n",
       "      <td>912</td>\n",
       "      <td>Northern Africa</td>\n",
       "      <td>902</td>\n",
       "      <td>Developing regions</td>\n",
       "      <td>80</td>\n",
       "      <td>...</td>\n",
       "      <td>3616</td>\n",
       "      <td>3626</td>\n",
       "      <td>4807</td>\n",
       "      <td>3623</td>\n",
       "      <td>4005</td>\n",
       "      <td>5393</td>\n",
       "      <td>4752</td>\n",
       "      <td>4325</td>\n",
       "      <td>3774</td>\n",
       "      <td>4331</td>\n",
       "    </tr>\n",
       "    <tr>\n",
       "      <th>3</th>\n",
       "      <td>Immigrants</td>\n",
       "      <td>Foreigners</td>\n",
       "      <td>American Samoa</td>\n",
       "      <td>909</td>\n",
       "      <td>Oceania</td>\n",
       "      <td>957</td>\n",
       "      <td>Polynesia</td>\n",
       "      <td>902</td>\n",
       "      <td>Developing regions</td>\n",
       "      <td>0</td>\n",
       "      <td>...</td>\n",
       "      <td>0</td>\n",
       "      <td>0</td>\n",
       "      <td>1</td>\n",
       "      <td>0</td>\n",
       "      <td>0</td>\n",
       "      <td>0</td>\n",
       "      <td>0</td>\n",
       "      <td>0</td>\n",
       "      <td>0</td>\n",
       "      <td>0</td>\n",
       "    </tr>\n",
       "    <tr>\n",
       "      <th>4</th>\n",
       "      <td>Immigrants</td>\n",
       "      <td>Foreigners</td>\n",
       "      <td>Andorra</td>\n",
       "      <td>908</td>\n",
       "      <td>Europe</td>\n",
       "      <td>925</td>\n",
       "      <td>Southern Europe</td>\n",
       "      <td>901</td>\n",
       "      <td>Developed regions</td>\n",
       "      <td>0</td>\n",
       "      <td>...</td>\n",
       "      <td>0</td>\n",
       "      <td>0</td>\n",
       "      <td>1</td>\n",
       "      <td>1</td>\n",
       "      <td>0</td>\n",
       "      <td>0</td>\n",
       "      <td>0</td>\n",
       "      <td>0</td>\n",
       "      <td>1</td>\n",
       "      <td>1</td>\n",
       "    </tr>\n",
       "    <tr>\n",
       "      <th>5</th>\n",
       "      <td>Immigrants</td>\n",
       "      <td>Foreigners</td>\n",
       "      <td>Angola</td>\n",
       "      <td>903</td>\n",
       "      <td>Africa</td>\n",
       "      <td>911</td>\n",
       "      <td>Middle Africa</td>\n",
       "      <td>902</td>\n",
       "      <td>Developing regions</td>\n",
       "      <td>1</td>\n",
       "      <td>...</td>\n",
       "      <td>268</td>\n",
       "      <td>295</td>\n",
       "      <td>184</td>\n",
       "      <td>106</td>\n",
       "      <td>76</td>\n",
       "      <td>62</td>\n",
       "      <td>61</td>\n",
       "      <td>39</td>\n",
       "      <td>70</td>\n",
       "      <td>45</td>\n",
       "    </tr>\n",
       "    <tr>\n",
       "      <th>6</th>\n",
       "      <td>Immigrants</td>\n",
       "      <td>Foreigners</td>\n",
       "      <td>Antigua and Barbuda</td>\n",
       "      <td>904</td>\n",
       "      <td>Latin America and the Caribbean</td>\n",
       "      <td>915</td>\n",
       "      <td>Caribbean</td>\n",
       "      <td>902</td>\n",
       "      <td>Developing regions</td>\n",
       "      <td>0</td>\n",
       "      <td>...</td>\n",
       "      <td>14</td>\n",
       "      <td>24</td>\n",
       "      <td>32</td>\n",
       "      <td>15</td>\n",
       "      <td>32</td>\n",
       "      <td>38</td>\n",
       "      <td>27</td>\n",
       "      <td>37</td>\n",
       "      <td>51</td>\n",
       "      <td>25</td>\n",
       "    </tr>\n",
       "    <tr>\n",
       "      <th>7</th>\n",
       "      <td>Immigrants</td>\n",
       "      <td>Foreigners</td>\n",
       "      <td>Argentina</td>\n",
       "      <td>904</td>\n",
       "      <td>Latin America and the Caribbean</td>\n",
       "      <td>931</td>\n",
       "      <td>South America</td>\n",
       "      <td>902</td>\n",
       "      <td>Developing regions</td>\n",
       "      <td>368</td>\n",
       "      <td>...</td>\n",
       "      <td>1591</td>\n",
       "      <td>1153</td>\n",
       "      <td>847</td>\n",
       "      <td>620</td>\n",
       "      <td>540</td>\n",
       "      <td>467</td>\n",
       "      <td>459</td>\n",
       "      <td>278</td>\n",
       "      <td>263</td>\n",
       "      <td>282</td>\n",
       "    </tr>\n",
       "    <tr>\n",
       "      <th>8</th>\n",
       "      <td>Immigrants</td>\n",
       "      <td>Foreigners</td>\n",
       "      <td>Armenia</td>\n",
       "      <td>935</td>\n",
       "      <td>Asia</td>\n",
       "      <td>922</td>\n",
       "      <td>Western Asia</td>\n",
       "      <td>902</td>\n",
       "      <td>Developing regions</td>\n",
       "      <td>0</td>\n",
       "      <td>...</td>\n",
       "      <td>147</td>\n",
       "      <td>224</td>\n",
       "      <td>218</td>\n",
       "      <td>198</td>\n",
       "      <td>205</td>\n",
       "      <td>267</td>\n",
       "      <td>252</td>\n",
       "      <td>236</td>\n",
       "      <td>258</td>\n",
       "      <td>207</td>\n",
       "    </tr>\n",
       "    <tr>\n",
       "      <th>9</th>\n",
       "      <td>Immigrants</td>\n",
       "      <td>Foreigners</td>\n",
       "      <td>Australia</td>\n",
       "      <td>909</td>\n",
       "      <td>Oceania</td>\n",
       "      <td>927</td>\n",
       "      <td>Australia and New Zealand</td>\n",
       "      <td>901</td>\n",
       "      <td>Developed regions</td>\n",
       "      <td>702</td>\n",
       "      <td>...</td>\n",
       "      <td>930</td>\n",
       "      <td>909</td>\n",
       "      <td>875</td>\n",
       "      <td>1033</td>\n",
       "      <td>1018</td>\n",
       "      <td>1018</td>\n",
       "      <td>933</td>\n",
       "      <td>851</td>\n",
       "      <td>982</td>\n",
       "      <td>1121</td>\n",
       "    </tr>\n",
       "    <tr>\n",
       "      <th>10</th>\n",
       "      <td>Immigrants</td>\n",
       "      <td>Foreigners</td>\n",
       "      <td>Austria</td>\n",
       "      <td>908</td>\n",
       "      <td>Europe</td>\n",
       "      <td>926</td>\n",
       "      <td>Western Europe</td>\n",
       "      <td>901</td>\n",
       "      <td>Developed regions</td>\n",
       "      <td>234</td>\n",
       "      <td>...</td>\n",
       "      <td>118</td>\n",
       "      <td>122</td>\n",
       "      <td>102</td>\n",
       "      <td>98</td>\n",
       "      <td>91</td>\n",
       "      <td>109</td>\n",
       "      <td>124</td>\n",
       "      <td>84</td>\n",
       "      <td>102</td>\n",
       "      <td>90</td>\n",
       "    </tr>\n",
       "    <tr>\n",
       "      <th>11</th>\n",
       "      <td>Immigrants</td>\n",
       "      <td>Foreigners</td>\n",
       "      <td>Azerbaijan</td>\n",
       "      <td>935</td>\n",
       "      <td>Asia</td>\n",
       "      <td>922</td>\n",
       "      <td>Western Asia</td>\n",
       "      <td>902</td>\n",
       "      <td>Developing regions</td>\n",
       "      <td>0</td>\n",
       "      <td>...</td>\n",
       "      <td>230</td>\n",
       "      <td>359</td>\n",
       "      <td>236</td>\n",
       "      <td>203</td>\n",
       "      <td>125</td>\n",
       "      <td>165</td>\n",
       "      <td>209</td>\n",
       "      <td>138</td>\n",
       "      <td>161</td>\n",
       "      <td>57</td>\n",
       "    </tr>\n",
       "    <tr>\n",
       "      <th>12</th>\n",
       "      <td>Immigrants</td>\n",
       "      <td>Foreigners</td>\n",
       "      <td>Bahamas</td>\n",
       "      <td>904</td>\n",
       "      <td>Latin America and the Caribbean</td>\n",
       "      <td>915</td>\n",
       "      <td>Caribbean</td>\n",
       "      <td>902</td>\n",
       "      <td>Developing regions</td>\n",
       "      <td>26</td>\n",
       "      <td>...</td>\n",
       "      <td>13</td>\n",
       "      <td>14</td>\n",
       "      <td>18</td>\n",
       "      <td>23</td>\n",
       "      <td>30</td>\n",
       "      <td>27</td>\n",
       "      <td>25</td>\n",
       "      <td>40</td>\n",
       "      <td>60</td>\n",
       "      <td>55</td>\n",
       "    </tr>\n",
       "    <tr>\n",
       "      <th>13</th>\n",
       "      <td>Immigrants</td>\n",
       "      <td>Foreigners</td>\n",
       "      <td>Bahrain</td>\n",
       "      <td>935</td>\n",
       "      <td>Asia</td>\n",
       "      <td>922</td>\n",
       "      <td>Western Asia</td>\n",
       "      <td>902</td>\n",
       "      <td>Developing regions</td>\n",
       "      <td>0</td>\n",
       "      <td>...</td>\n",
       "      <td>12</td>\n",
       "      <td>12</td>\n",
       "      <td>12</td>\n",
       "      <td>22</td>\n",
       "      <td>9</td>\n",
       "      <td>35</td>\n",
       "      <td>28</td>\n",
       "      <td>21</td>\n",
       "      <td>39</td>\n",
       "      <td>32</td>\n",
       "    </tr>\n",
       "    <tr>\n",
       "      <th>14</th>\n",
       "      <td>Immigrants</td>\n",
       "      <td>Foreigners</td>\n",
       "      <td>Bangladesh</td>\n",
       "      <td>935</td>\n",
       "      <td>Asia</td>\n",
       "      <td>5501</td>\n",
       "      <td>Southern Asia</td>\n",
       "      <td>902</td>\n",
       "      <td>Developing regions</td>\n",
       "      <td>83</td>\n",
       "      <td>...</td>\n",
       "      <td>2660</td>\n",
       "      <td>4171</td>\n",
       "      <td>4014</td>\n",
       "      <td>2897</td>\n",
       "      <td>2939</td>\n",
       "      <td>2104</td>\n",
       "      <td>4721</td>\n",
       "      <td>2694</td>\n",
       "      <td>2640</td>\n",
       "      <td>3789</td>\n",
       "    </tr>\n",
       "    <tr>\n",
       "      <th>15</th>\n",
       "      <td>Immigrants</td>\n",
       "      <td>Foreigners</td>\n",
       "      <td>Barbados</td>\n",
       "      <td>904</td>\n",
       "      <td>Latin America and the Caribbean</td>\n",
       "      <td>915</td>\n",
       "      <td>Caribbean</td>\n",
       "      <td>902</td>\n",
       "      <td>Developing regions</td>\n",
       "      <td>372</td>\n",
       "      <td>...</td>\n",
       "      <td>90</td>\n",
       "      <td>111</td>\n",
       "      <td>97</td>\n",
       "      <td>130</td>\n",
       "      <td>134</td>\n",
       "      <td>125</td>\n",
       "      <td>121</td>\n",
       "      <td>97</td>\n",
       "      <td>132</td>\n",
       "      <td>97</td>\n",
       "    </tr>\n",
       "    <tr>\n",
       "      <th>16</th>\n",
       "      <td>Immigrants</td>\n",
       "      <td>Foreigners</td>\n",
       "      <td>Belarus</td>\n",
       "      <td>908</td>\n",
       "      <td>Europe</td>\n",
       "      <td>923</td>\n",
       "      <td>Eastern Europe</td>\n",
       "      <td>901</td>\n",
       "      <td>Developed regions</td>\n",
       "      <td>0</td>\n",
       "      <td>...</td>\n",
       "      <td>543</td>\n",
       "      <td>558</td>\n",
       "      <td>439</td>\n",
       "      <td>568</td>\n",
       "      <td>524</td>\n",
       "      <td>454</td>\n",
       "      <td>438</td>\n",
       "      <td>357</td>\n",
       "      <td>277</td>\n",
       "      <td>247</td>\n",
       "    </tr>\n",
       "    <tr>\n",
       "      <th>17</th>\n",
       "      <td>Immigrants</td>\n",
       "      <td>Foreigners</td>\n",
       "      <td>Belgium</td>\n",
       "      <td>908</td>\n",
       "      <td>Europe</td>\n",
       "      <td>926</td>\n",
       "      <td>Western Europe</td>\n",
       "      <td>901</td>\n",
       "      <td>Developed regions</td>\n",
       "      <td>511</td>\n",
       "      <td>...</td>\n",
       "      <td>411</td>\n",
       "      <td>400</td>\n",
       "      <td>302</td>\n",
       "      <td>363</td>\n",
       "      <td>335</td>\n",
       "      <td>358</td>\n",
       "      <td>363</td>\n",
       "      <td>332</td>\n",
       "      <td>402</td>\n",
       "      <td>379</td>\n",
       "    </tr>\n",
       "    <tr>\n",
       "      <th>18</th>\n",
       "      <td>Immigrants</td>\n",
       "      <td>Foreigners</td>\n",
       "      <td>Belize</td>\n",
       "      <td>904</td>\n",
       "      <td>Latin America and the Caribbean</td>\n",
       "      <td>916</td>\n",
       "      <td>Central America</td>\n",
       "      <td>902</td>\n",
       "      <td>Developing regions</td>\n",
       "      <td>16</td>\n",
       "      <td>...</td>\n",
       "      <td>25</td>\n",
       "      <td>37</td>\n",
       "      <td>24</td>\n",
       "      <td>28</td>\n",
       "      <td>48</td>\n",
       "      <td>38</td>\n",
       "      <td>39</td>\n",
       "      <td>36</td>\n",
       "      <td>34</td>\n",
       "      <td>53</td>\n",
       "    </tr>\n",
       "    <tr>\n",
       "      <th>19</th>\n",
       "      <td>Immigrants</td>\n",
       "      <td>Foreigners</td>\n",
       "      <td>Benin</td>\n",
       "      <td>903</td>\n",
       "      <td>Africa</td>\n",
       "      <td>914</td>\n",
       "      <td>Western Africa</td>\n",
       "      <td>902</td>\n",
       "      <td>Developing regions</td>\n",
       "      <td>2</td>\n",
       "      <td>...</td>\n",
       "      <td>112</td>\n",
       "      <td>95</td>\n",
       "      <td>116</td>\n",
       "      <td>183</td>\n",
       "      <td>205</td>\n",
       "      <td>238</td>\n",
       "      <td>290</td>\n",
       "      <td>284</td>\n",
       "      <td>391</td>\n",
       "      <td>397</td>\n",
       "    </tr>\n",
       "  </tbody>\n",
       "</table>\n",
       "<p>20 rows × 43 columns</p>\n",
       "</div>"
      ],
      "text/plain": [
       "          Type    Coverage               OdName  AREA  \\\n",
       "0   Immigrants  Foreigners          Afghanistan   935   \n",
       "1   Immigrants  Foreigners              Albania   908   \n",
       "2   Immigrants  Foreigners              Algeria   903   \n",
       "3   Immigrants  Foreigners       American Samoa   909   \n",
       "4   Immigrants  Foreigners              Andorra   908   \n",
       "5   Immigrants  Foreigners               Angola   903   \n",
       "6   Immigrants  Foreigners  Antigua and Barbuda   904   \n",
       "7   Immigrants  Foreigners            Argentina   904   \n",
       "8   Immigrants  Foreigners              Armenia   935   \n",
       "9   Immigrants  Foreigners            Australia   909   \n",
       "10  Immigrants  Foreigners              Austria   908   \n",
       "11  Immigrants  Foreigners           Azerbaijan   935   \n",
       "12  Immigrants  Foreigners              Bahamas   904   \n",
       "13  Immigrants  Foreigners              Bahrain   935   \n",
       "14  Immigrants  Foreigners           Bangladesh   935   \n",
       "15  Immigrants  Foreigners             Barbados   904   \n",
       "16  Immigrants  Foreigners              Belarus   908   \n",
       "17  Immigrants  Foreigners              Belgium   908   \n",
       "18  Immigrants  Foreigners               Belize   904   \n",
       "19  Immigrants  Foreigners                Benin   903   \n",
       "\n",
       "                           AreaName   REG                    RegName  DEV  \\\n",
       "0                              Asia  5501              Southern Asia  902   \n",
       "1                            Europe   925            Southern Europe  901   \n",
       "2                            Africa   912            Northern Africa  902   \n",
       "3                           Oceania   957                  Polynesia  902   \n",
       "4                            Europe   925            Southern Europe  901   \n",
       "5                            Africa   911              Middle Africa  902   \n",
       "6   Latin America and the Caribbean   915                  Caribbean  902   \n",
       "7   Latin America and the Caribbean   931              South America  902   \n",
       "8                              Asia   922               Western Asia  902   \n",
       "9                           Oceania   927  Australia and New Zealand  901   \n",
       "10                           Europe   926             Western Europe  901   \n",
       "11                             Asia   922               Western Asia  902   \n",
       "12  Latin America and the Caribbean   915                  Caribbean  902   \n",
       "13                             Asia   922               Western Asia  902   \n",
       "14                             Asia  5501              Southern Asia  902   \n",
       "15  Latin America and the Caribbean   915                  Caribbean  902   \n",
       "16                           Europe   923             Eastern Europe  901   \n",
       "17                           Europe   926             Western Europe  901   \n",
       "18  Latin America and the Caribbean   916            Central America  902   \n",
       "19                           Africa   914             Western Africa  902   \n",
       "\n",
       "               DevName  1980  ...  2004  2005  2006  2007  2008  2009  2010  \\\n",
       "0   Developing regions    16  ...  2978  3436  3009  2652  2111  1746  1758   \n",
       "1    Developed regions     1  ...  1450  1223   856   702   560   716   561   \n",
       "2   Developing regions    80  ...  3616  3626  4807  3623  4005  5393  4752   \n",
       "3   Developing regions     0  ...     0     0     1     0     0     0     0   \n",
       "4    Developed regions     0  ...     0     0     1     1     0     0     0   \n",
       "5   Developing regions     1  ...   268   295   184   106    76    62    61   \n",
       "6   Developing regions     0  ...    14    24    32    15    32    38    27   \n",
       "7   Developing regions   368  ...  1591  1153   847   620   540   467   459   \n",
       "8   Developing regions     0  ...   147   224   218   198   205   267   252   \n",
       "9    Developed regions   702  ...   930   909   875  1033  1018  1018   933   \n",
       "10   Developed regions   234  ...   118   122   102    98    91   109   124   \n",
       "11  Developing regions     0  ...   230   359   236   203   125   165   209   \n",
       "12  Developing regions    26  ...    13    14    18    23    30    27    25   \n",
       "13  Developing regions     0  ...    12    12    12    22     9    35    28   \n",
       "14  Developing regions    83  ...  2660  4171  4014  2897  2939  2104  4721   \n",
       "15  Developing regions   372  ...    90   111    97   130   134   125   121   \n",
       "16   Developed regions     0  ...   543   558   439   568   524   454   438   \n",
       "17   Developed regions   511  ...   411   400   302   363   335   358   363   \n",
       "18  Developing regions    16  ...    25    37    24    28    48    38    39   \n",
       "19  Developing regions     2  ...   112    95   116   183   205   238   290   \n",
       "\n",
       "    2011  2012  2013  \n",
       "0   2203  2635  2004  \n",
       "1    539   620   603  \n",
       "2   4325  3774  4331  \n",
       "3      0     0     0  \n",
       "4      0     1     1  \n",
       "5     39    70    45  \n",
       "6     37    51    25  \n",
       "7    278   263   282  \n",
       "8    236   258   207  \n",
       "9    851   982  1121  \n",
       "10    84   102    90  \n",
       "11   138   161    57  \n",
       "12    40    60    55  \n",
       "13    21    39    32  \n",
       "14  2694  2640  3789  \n",
       "15    97   132    97  \n",
       "16   357   277   247  \n",
       "17   332   402   379  \n",
       "18    36    34    53  \n",
       "19   284   391   397  \n",
       "\n",
       "[20 rows x 43 columns]"
      ]
     },
     "execution_count": 12,
     "metadata": {},
     "output_type": "execute_result"
    }
   ],
   "source": [
    "df.head(20)"
   ]
  },
  {
   "cell_type": "code",
   "execution_count": 23,
   "id": "64b86491",
   "metadata": {},
   "outputs": [
    {
     "ename": "KeyError",
     "evalue": "\"['AREA' 'REG' 'DEV' 'Type' 'Coverage' 'DevName'] not found in axis\"",
     "output_type": "error",
     "traceback": [
      "\u001b[1;31m---------------------------------------------------------------------------\u001b[0m",
      "\u001b[1;31mKeyError\u001b[0m                                  Traceback (most recent call last)",
      "\u001b[1;32m~\\AppData\\Local\\Temp/ipykernel_5648/4030622728.py\u001b[0m in \u001b[0;36m<module>\u001b[1;34m\u001b[0m\n\u001b[1;32m----> 1\u001b[1;33m \u001b[0mdf\u001b[0m\u001b[1;33m.\u001b[0m\u001b[0mdrop\u001b[0m\u001b[1;33m(\u001b[0m\u001b[1;33m[\u001b[0m\u001b[1;34m'AREA'\u001b[0m\u001b[1;33m,\u001b[0m\u001b[1;34m'REG'\u001b[0m\u001b[1;33m,\u001b[0m\u001b[1;34m'DEV'\u001b[0m\u001b[1;33m,\u001b[0m\u001b[1;34m'Type'\u001b[0m\u001b[1;33m,\u001b[0m\u001b[1;34m'Coverage'\u001b[0m\u001b[1;33m,\u001b[0m\u001b[1;34m'DevName'\u001b[0m\u001b[1;33m]\u001b[0m\u001b[1;33m,\u001b[0m \u001b[0maxis\u001b[0m\u001b[1;33m=\u001b[0m\u001b[1;36m1\u001b[0m\u001b[1;33m,\u001b[0m \u001b[0minplace\u001b[0m\u001b[1;33m=\u001b[0m\u001b[1;32mTrue\u001b[0m\u001b[1;33m)\u001b[0m\u001b[1;33m\u001b[0m\u001b[1;33m\u001b[0m\u001b[0m\n\u001b[0m",
      "\u001b[1;32mC:\\DownloadedSoftwares\\anaconda3\\lib\\site-packages\\pandas\\util\\_decorators.py\u001b[0m in \u001b[0;36mwrapper\u001b[1;34m(*args, **kwargs)\u001b[0m\n\u001b[0;32m    309\u001b[0m                     \u001b[0mstacklevel\u001b[0m\u001b[1;33m=\u001b[0m\u001b[0mstacklevel\u001b[0m\u001b[1;33m,\u001b[0m\u001b[1;33m\u001b[0m\u001b[1;33m\u001b[0m\u001b[0m\n\u001b[0;32m    310\u001b[0m                 )\n\u001b[1;32m--> 311\u001b[1;33m             \u001b[1;32mreturn\u001b[0m \u001b[0mfunc\u001b[0m\u001b[1;33m(\u001b[0m\u001b[1;33m*\u001b[0m\u001b[0margs\u001b[0m\u001b[1;33m,\u001b[0m \u001b[1;33m**\u001b[0m\u001b[0mkwargs\u001b[0m\u001b[1;33m)\u001b[0m\u001b[1;33m\u001b[0m\u001b[1;33m\u001b[0m\u001b[0m\n\u001b[0m\u001b[0;32m    312\u001b[0m \u001b[1;33m\u001b[0m\u001b[0m\n\u001b[0;32m    313\u001b[0m         \u001b[1;32mreturn\u001b[0m \u001b[0mwrapper\u001b[0m\u001b[1;33m\u001b[0m\u001b[1;33m\u001b[0m\u001b[0m\n",
      "\u001b[1;32mC:\\DownloadedSoftwares\\anaconda3\\lib\\site-packages\\pandas\\core\\frame.py\u001b[0m in \u001b[0;36mdrop\u001b[1;34m(self, labels, axis, index, columns, level, inplace, errors)\u001b[0m\n\u001b[0;32m   4904\u001b[0m                 \u001b[0mweight\u001b[0m  \u001b[1;36m1.0\u001b[0m     \u001b[1;36m0.8\u001b[0m\u001b[1;33m\u001b[0m\u001b[1;33m\u001b[0m\u001b[0m\n\u001b[0;32m   4905\u001b[0m         \"\"\"\n\u001b[1;32m-> 4906\u001b[1;33m         return super().drop(\n\u001b[0m\u001b[0;32m   4907\u001b[0m             \u001b[0mlabels\u001b[0m\u001b[1;33m=\u001b[0m\u001b[0mlabels\u001b[0m\u001b[1;33m,\u001b[0m\u001b[1;33m\u001b[0m\u001b[1;33m\u001b[0m\u001b[0m\n\u001b[0;32m   4908\u001b[0m             \u001b[0maxis\u001b[0m\u001b[1;33m=\u001b[0m\u001b[0maxis\u001b[0m\u001b[1;33m,\u001b[0m\u001b[1;33m\u001b[0m\u001b[1;33m\u001b[0m\u001b[0m\n",
      "\u001b[1;32mC:\\DownloadedSoftwares\\anaconda3\\lib\\site-packages\\pandas\\core\\generic.py\u001b[0m in \u001b[0;36mdrop\u001b[1;34m(self, labels, axis, index, columns, level, inplace, errors)\u001b[0m\n\u001b[0;32m   4148\u001b[0m         \u001b[1;32mfor\u001b[0m \u001b[0maxis\u001b[0m\u001b[1;33m,\u001b[0m \u001b[0mlabels\u001b[0m \u001b[1;32min\u001b[0m \u001b[0maxes\u001b[0m\u001b[1;33m.\u001b[0m\u001b[0mitems\u001b[0m\u001b[1;33m(\u001b[0m\u001b[1;33m)\u001b[0m\u001b[1;33m:\u001b[0m\u001b[1;33m\u001b[0m\u001b[1;33m\u001b[0m\u001b[0m\n\u001b[0;32m   4149\u001b[0m             \u001b[1;32mif\u001b[0m \u001b[0mlabels\u001b[0m \u001b[1;32mis\u001b[0m \u001b[1;32mnot\u001b[0m \u001b[1;32mNone\u001b[0m\u001b[1;33m:\u001b[0m\u001b[1;33m\u001b[0m\u001b[1;33m\u001b[0m\u001b[0m\n\u001b[1;32m-> 4150\u001b[1;33m                 \u001b[0mobj\u001b[0m \u001b[1;33m=\u001b[0m \u001b[0mobj\u001b[0m\u001b[1;33m.\u001b[0m\u001b[0m_drop_axis\u001b[0m\u001b[1;33m(\u001b[0m\u001b[0mlabels\u001b[0m\u001b[1;33m,\u001b[0m \u001b[0maxis\u001b[0m\u001b[1;33m,\u001b[0m \u001b[0mlevel\u001b[0m\u001b[1;33m=\u001b[0m\u001b[0mlevel\u001b[0m\u001b[1;33m,\u001b[0m \u001b[0merrors\u001b[0m\u001b[1;33m=\u001b[0m\u001b[0merrors\u001b[0m\u001b[1;33m)\u001b[0m\u001b[1;33m\u001b[0m\u001b[1;33m\u001b[0m\u001b[0m\n\u001b[0m\u001b[0;32m   4151\u001b[0m \u001b[1;33m\u001b[0m\u001b[0m\n\u001b[0;32m   4152\u001b[0m         \u001b[1;32mif\u001b[0m \u001b[0minplace\u001b[0m\u001b[1;33m:\u001b[0m\u001b[1;33m\u001b[0m\u001b[1;33m\u001b[0m\u001b[0m\n",
      "\u001b[1;32mC:\\DownloadedSoftwares\\anaconda3\\lib\\site-packages\\pandas\\core\\generic.py\u001b[0m in \u001b[0;36m_drop_axis\u001b[1;34m(self, labels, axis, level, errors)\u001b[0m\n\u001b[0;32m   4183\u001b[0m                 \u001b[0mnew_axis\u001b[0m \u001b[1;33m=\u001b[0m \u001b[0maxis\u001b[0m\u001b[1;33m.\u001b[0m\u001b[0mdrop\u001b[0m\u001b[1;33m(\u001b[0m\u001b[0mlabels\u001b[0m\u001b[1;33m,\u001b[0m \u001b[0mlevel\u001b[0m\u001b[1;33m=\u001b[0m\u001b[0mlevel\u001b[0m\u001b[1;33m,\u001b[0m \u001b[0merrors\u001b[0m\u001b[1;33m=\u001b[0m\u001b[0merrors\u001b[0m\u001b[1;33m)\u001b[0m\u001b[1;33m\u001b[0m\u001b[1;33m\u001b[0m\u001b[0m\n\u001b[0;32m   4184\u001b[0m             \u001b[1;32melse\u001b[0m\u001b[1;33m:\u001b[0m\u001b[1;33m\u001b[0m\u001b[1;33m\u001b[0m\u001b[0m\n\u001b[1;32m-> 4185\u001b[1;33m                 \u001b[0mnew_axis\u001b[0m \u001b[1;33m=\u001b[0m \u001b[0maxis\u001b[0m\u001b[1;33m.\u001b[0m\u001b[0mdrop\u001b[0m\u001b[1;33m(\u001b[0m\u001b[0mlabels\u001b[0m\u001b[1;33m,\u001b[0m \u001b[0merrors\u001b[0m\u001b[1;33m=\u001b[0m\u001b[0merrors\u001b[0m\u001b[1;33m)\u001b[0m\u001b[1;33m\u001b[0m\u001b[1;33m\u001b[0m\u001b[0m\n\u001b[0m\u001b[0;32m   4186\u001b[0m             \u001b[0mresult\u001b[0m \u001b[1;33m=\u001b[0m \u001b[0mself\u001b[0m\u001b[1;33m.\u001b[0m\u001b[0mreindex\u001b[0m\u001b[1;33m(\u001b[0m\u001b[1;33m**\u001b[0m\u001b[1;33m{\u001b[0m\u001b[0maxis_name\u001b[0m\u001b[1;33m:\u001b[0m \u001b[0mnew_axis\u001b[0m\u001b[1;33m}\u001b[0m\u001b[1;33m)\u001b[0m\u001b[1;33m\u001b[0m\u001b[1;33m\u001b[0m\u001b[0m\n\u001b[0;32m   4187\u001b[0m \u001b[1;33m\u001b[0m\u001b[0m\n",
      "\u001b[1;32mC:\\DownloadedSoftwares\\anaconda3\\lib\\site-packages\\pandas\\core\\indexes\\base.py\u001b[0m in \u001b[0;36mdrop\u001b[1;34m(self, labels, errors)\u001b[0m\n\u001b[0;32m   6015\u001b[0m         \u001b[1;32mif\u001b[0m \u001b[0mmask\u001b[0m\u001b[1;33m.\u001b[0m\u001b[0many\u001b[0m\u001b[1;33m(\u001b[0m\u001b[1;33m)\u001b[0m\u001b[1;33m:\u001b[0m\u001b[1;33m\u001b[0m\u001b[1;33m\u001b[0m\u001b[0m\n\u001b[0;32m   6016\u001b[0m             \u001b[1;32mif\u001b[0m \u001b[0merrors\u001b[0m \u001b[1;33m!=\u001b[0m \u001b[1;34m\"ignore\"\u001b[0m\u001b[1;33m:\u001b[0m\u001b[1;33m\u001b[0m\u001b[1;33m\u001b[0m\u001b[0m\n\u001b[1;32m-> 6017\u001b[1;33m                 \u001b[1;32mraise\u001b[0m \u001b[0mKeyError\u001b[0m\u001b[1;33m(\u001b[0m\u001b[1;34mf\"{labels[mask]} not found in axis\"\u001b[0m\u001b[1;33m)\u001b[0m\u001b[1;33m\u001b[0m\u001b[1;33m\u001b[0m\u001b[0m\n\u001b[0m\u001b[0;32m   6018\u001b[0m             \u001b[0mindexer\u001b[0m \u001b[1;33m=\u001b[0m \u001b[0mindexer\u001b[0m\u001b[1;33m[\u001b[0m\u001b[1;33m~\u001b[0m\u001b[0mmask\u001b[0m\u001b[1;33m]\u001b[0m\u001b[1;33m\u001b[0m\u001b[1;33m\u001b[0m\u001b[0m\n\u001b[0;32m   6019\u001b[0m         \u001b[1;32mreturn\u001b[0m \u001b[0mself\u001b[0m\u001b[1;33m.\u001b[0m\u001b[0mdelete\u001b[0m\u001b[1;33m(\u001b[0m\u001b[0mindexer\u001b[0m\u001b[1;33m)\u001b[0m\u001b[1;33m\u001b[0m\u001b[1;33m\u001b[0m\u001b[0m\n",
      "\u001b[1;31mKeyError\u001b[0m: \"['AREA' 'REG' 'DEV' 'Type' 'Coverage' 'DevName'] not found in axis\""
     ]
    }
   ],
   "source": [
    "df.drop(['AREA','REG','DEV','Type','Coverage','DevName'], axis=1, inplace=True)"
   ]
  },
  {
   "cell_type": "code",
   "execution_count": 34,
   "id": "72448a2f",
   "metadata": {},
   "outputs": [
    {
     "name": "stderr",
     "output_type": "stream",
     "text": [
      "C:\\Users\\vnmja\\AppData\\Local\\Temp/ipykernel_5648/2877292253.py:2: FutureWarning: Dropping of nuisance columns in DataFrame reductions (with 'numeric_only=None') is deprecated; in a future version this will raise TypeError.  Select only valid columns before calling the reduction.\n",
      "  df['total'] = df.sum(axis=1)\n"
     ]
    },
    {
     "data": {
      "text/plain": [
       "country\n",
       "Afghanistan      1\n",
       "New Caledonia    1\n",
       "Nicaragua        1\n",
       "Niger            1\n",
       "Nigeria          1\n",
       "                ..\n",
       "Germany          1\n",
       "Ghana            1\n",
       "Greece           1\n",
       "Grenada          1\n",
       "Zimbabwe         1\n",
       "Length: 196, dtype: int64"
      ]
     },
     "execution_count": 34,
     "metadata": {},
     "output_type": "execute_result"
    }
   ],
   "source": [
    "df.rename(columns={'OdName':'country', 'AreaName':'continent', 'RegName':'region'}, inplace=True)\n",
    "df['total'] = df.sum(axis=1)\n",
    "df.set_index('country')\n",
    "df.value_counts('country')\n",
    "\n",
    "#df.tail()"
   ]
  },
  {
   "cell_type": "code",
   "execution_count": 45,
   "id": "2d415261",
   "metadata": {},
   "outputs": [
    {
     "ename": "AttributeError",
     "evalue": "'Series' object has no attribute 'sort_value'",
     "output_type": "error",
     "traceback": [
      "\u001b[1;31m---------------------------------------------------------------------------\u001b[0m",
      "\u001b[1;31mAttributeError\u001b[0m                            Traceback (most recent call last)",
      "\u001b[1;32m~\\AppData\\Local\\Temp/ipykernel_5648/3202475567.py\u001b[0m in \u001b[0;36m<module>\u001b[1;34m\u001b[0m\n\u001b[0;32m      1\u001b[0m \u001b[0mpd\u001b[0m\u001b[1;33m.\u001b[0m\u001b[0mset_option\u001b[0m\u001b[1;33m(\u001b[0m\u001b[1;34m'display.max_rows'\u001b[0m\u001b[1;33m,\u001b[0m \u001b[1;32mNone\u001b[0m\u001b[1;33m)\u001b[0m\u001b[1;33m\u001b[0m\u001b[1;33m\u001b[0m\u001b[0m\n\u001b[1;32m----> 2\u001b[1;33m \u001b[0mdf\u001b[0m\u001b[1;33m[\u001b[0m\u001b[1;34m'country'\u001b[0m\u001b[1;33m]\u001b[0m\u001b[1;33m.\u001b[0m\u001b[0mvalue_counts\u001b[0m\u001b[1;33m(\u001b[0m\u001b[1;33m)\u001b[0m\u001b[1;33m.\u001b[0m\u001b[0msort_value\u001b[0m\u001b[1;33m(\u001b[0m\u001b[1;34m'country'\u001b[0m\u001b[1;33m)\u001b[0m\u001b[1;33m\u001b[0m\u001b[1;33m\u001b[0m\u001b[0m\n\u001b[0m",
      "\u001b[1;32mC:\\DownloadedSoftwares\\anaconda3\\lib\\site-packages\\pandas\\core\\generic.py\u001b[0m in \u001b[0;36m__getattr__\u001b[1;34m(self, name)\u001b[0m\n\u001b[0;32m   5485\u001b[0m         ):\n\u001b[0;32m   5486\u001b[0m             \u001b[1;32mreturn\u001b[0m \u001b[0mself\u001b[0m\u001b[1;33m[\u001b[0m\u001b[0mname\u001b[0m\u001b[1;33m]\u001b[0m\u001b[1;33m\u001b[0m\u001b[1;33m\u001b[0m\u001b[0m\n\u001b[1;32m-> 5487\u001b[1;33m         \u001b[1;32mreturn\u001b[0m \u001b[0mobject\u001b[0m\u001b[1;33m.\u001b[0m\u001b[0m__getattribute__\u001b[0m\u001b[1;33m(\u001b[0m\u001b[0mself\u001b[0m\u001b[1;33m,\u001b[0m \u001b[0mname\u001b[0m\u001b[1;33m)\u001b[0m\u001b[1;33m\u001b[0m\u001b[1;33m\u001b[0m\u001b[0m\n\u001b[0m\u001b[0;32m   5488\u001b[0m \u001b[1;33m\u001b[0m\u001b[0m\n\u001b[0;32m   5489\u001b[0m     \u001b[1;32mdef\u001b[0m \u001b[0m__setattr__\u001b[0m\u001b[1;33m(\u001b[0m\u001b[0mself\u001b[0m\u001b[1;33m,\u001b[0m \u001b[0mname\u001b[0m\u001b[1;33m:\u001b[0m \u001b[0mstr\u001b[0m\u001b[1;33m,\u001b[0m \u001b[0mvalue\u001b[0m\u001b[1;33m)\u001b[0m \u001b[1;33m->\u001b[0m \u001b[1;32mNone\u001b[0m\u001b[1;33m:\u001b[0m\u001b[1;33m\u001b[0m\u001b[1;33m\u001b[0m\u001b[0m\n",
      "\u001b[1;31mAttributeError\u001b[0m: 'Series' object has no attribute 'sort_value'"
     ]
    }
   ],
   "source": [
    "pd.set_option('display.max_rows', None)\n",
    "df['country'].value_counts().sort_value('country')"
   ]
  },
  {
   "cell_type": "markdown",
   "id": "517c0bf9",
   "metadata": {},
   "source": [
    "### Step-3 : Creating Beautiful Visualizations\n",
    "\n",
    "#### Line Chart"
   ]
  },
  {
   "cell_type": "code",
   "execution_count": 1,
   "id": "24e86697",
   "metadata": {},
   "outputs": [],
   "source": [
    "# Single line chart\n",
    "\n"
   ]
  },
  {
   "cell_type": "code",
   "execution_count": 2,
   "id": "fed6d30a",
   "metadata": {},
   "outputs": [],
   "source": [
    "# Multiple Line chart \n"
   ]
  },
  {
   "cell_type": "markdown",
   "id": "966ec2fb",
   "metadata": {},
   "source": [
    "#### Lets talk about style   "
   ]
  },
  {
   "cell_type": "code",
   "execution_count": 3,
   "id": "5fc473cf",
   "metadata": {},
   "outputs": [],
   "source": [
    "#Shows all avaiable built-in styles\n",
    "print(plt.style.available)"
   ]
  },
  {
   "cell_type": "markdown",
   "id": "28feffa4",
   "metadata": {},
   "source": [
    "To see a visualization of the aviable style sheets [click here](https://matplotlib.org/stable/gallery/style_sheets/style_sheets_reference.html). \n",
    "\n",
    "Syntex to select a specific style is: plt.style.use('style_name') \n",
    "\n",
    "Try it out by adding the line of code to the top of the code block above and choose one of the preinstalled styles. Which style is your favorite?<br><br>\n",
    "\n",
    "What happens when you change the line- plt.legend(loc = 'upper left', fontsize = 12) to plt.legend(loc = 'lower right', fontsize = 12)? <br><br><br><br>\n",
    "\n",
    "\n",
    "\n",
    "Experiment changing other lines of the code and see how the graph changes. Add any notes or observations here. Going forward feel free to experiment with each graph type<br><br><br><br><br><br>"
   ]
  },
  {
   "cell_type": "markdown",
   "id": "d9153254",
   "metadata": {},
   "source": [
    "#### Install mplcyberpunk\n",
    "Open a terminal window and at at the prompt type:\n",
    "\n",
    "python -V\n",
    "\n",
    "If its python 3.something, copy and paste: pip install mplcyberpunk\n",
    "If its python 2.something, copy and paste: pip3 install mplcyberpunk\n",
    "\n",
    "\n",
    "For more info on mplcyberpunk click [here.](https://github.com/dhaitz/mplcyberpunk)"
   ]
  },
  {
   "cell_type": "code",
   "execution_count": 4,
   "id": "d6532a85",
   "metadata": {},
   "outputs": [],
   "source": [
    "# Cyberpunk Multiple Line Chart\n",
    "\n"
   ]
  },
  {
   "cell_type": "markdown",
   "id": "01dbbde2",
   "metadata": {},
   "source": [
    "#### Bar Chart"
   ]
  },
  {
   "cell_type": "code",
   "execution_count": 5,
   "id": "f3930bde",
   "metadata": {},
   "outputs": [],
   "source": [
    "# Vertical bar chart\n",
    "# Do not change the style back to ggplot \n",
    "# delete the style.use('ggplot') line of code\n",
    "\n"
   ]
  },
  {
   "cell_type": "markdown",
   "id": "ee20b2db",
   "metadata": {},
   "source": [
    "Notice that style is still set to cyberpunk.  How do we fix it so we can see the labels?<br> <br>\n",
    "\n",
    "Answer: change the color = 'black' to 'white'\n",
    "\n",
    "Feel free to experiment and add any notes or observations here. <br><br><br><br><br>"
   ]
  },
  {
   "cell_type": "code",
   "execution_count": 7,
   "id": "8c76e7b3",
   "metadata": {},
   "outputs": [],
   "source": [
    "# Horizontal bar chart\n",
    "#change style back to ggplt\n"
   ]
  },
  {
   "cell_type": "markdown",
   "id": "7fcf08a3",
   "metadata": {},
   "source": [
    "Feel free to experiment and add any notes or observations here. <br><br><br><br><br>"
   ]
  },
  {
   "cell_type": "code",
   "execution_count": 8,
   "id": "64b65871",
   "metadata": {},
   "outputs": [],
   "source": [
    "# Grouped bar chart\n"
   ]
  },
  {
   "cell_type": "markdown",
   "id": "f4c40b4e",
   "metadata": {},
   "source": [
    "Notice how the labels in the legend have disapeared?  We can fix this by adding labelcolor='k' to plt.legend<br>\n",
    "<br>plt.legend(title = 'Country', fontsize = 12, labelcolor='black')\n",
    "\n"
   ]
  },
  {
   "cell_type": "markdown",
   "id": "c1fe51d0",
   "metadata": {},
   "source": [
    "Feel free to experiment and add any notes or observations here. <br><br><br><br><br>"
   ]
  },
  {
   "cell_type": "markdown",
   "id": "19f08118",
   "metadata": {},
   "source": [
    "#### Area Chart"
   ]
  },
  {
   "cell_type": "code",
   "execution_count": 9,
   "id": "509687c7",
   "metadata": {},
   "outputs": [],
   "source": [
    "# Area Chart\n"
   ]
  },
  {
   "cell_type": "markdown",
   "id": "4d408e89",
   "metadata": {},
   "source": [
    "Feel free to experiment and add any notes or observations here. <br><br><br><br><br>"
   ]
  },
  {
   "cell_type": "code",
   "execution_count": 10,
   "id": "7989e6ac",
   "metadata": {},
   "outputs": [],
   "source": [
    "# cyberpunk simple area chart\n"
   ]
  },
  {
   "cell_type": "markdown",
   "id": "420631dd",
   "metadata": {},
   "source": [
    "Feel free to experiment and add any notes or observations here. <br><br><br><br><br>"
   ]
  },
  {
   "cell_type": "code",
   "execution_count": 11,
   "id": "9bc1454c",
   "metadata": {},
   "outputs": [],
   "source": [
    "# stacked area chart\n"
   ]
  },
  {
   "cell_type": "markdown",
   "id": "503f68a3",
   "metadata": {},
   "source": [
    "Feel free to experiment and add any notes or observations here. <br><br><br><br><br>"
   ]
  },
  {
   "cell_type": "code",
   "execution_count": 12,
   "id": "c0dd9e02",
   "metadata": {},
   "outputs": [],
   "source": [
    "# unstacked area chart\n"
   ]
  },
  {
   "cell_type": "markdown",
   "id": "35834e39",
   "metadata": {},
   "source": [
    "Feel free to experiment and add any notes or observations here. <br><br><br><br><br>"
   ]
  },
  {
   "cell_type": "markdown",
   "id": "3d866890",
   "metadata": {},
   "source": [
    "#### Box Plot"
   ]
  },
  {
   "cell_type": "code",
   "execution_count": 13,
   "id": "43991b65",
   "metadata": {},
   "outputs": [],
   "source": [
    "# Vertical Box Plot\n"
   ]
  },
  {
   "cell_type": "markdown",
   "id": "947dc4d8",
   "metadata": {},
   "source": [
    "Feel free to experiment and add any notes or observations here. <br><br><br><br><br>"
   ]
  },
  {
   "cell_type": "code",
   "execution_count": 14,
   "id": "e1b2f85d",
   "metadata": {},
   "outputs": [],
   "source": [
    "# horizontal box plot\n"
   ]
  },
  {
   "cell_type": "markdown",
   "id": "cfdd9f82",
   "metadata": {},
   "source": [
    "Feel free to experiment and add any notes or observations here. <br><br><br><br><br>"
   ]
  },
  {
   "cell_type": "markdown",
   "id": "b479350f",
   "metadata": {},
   "source": [
    "#### Scatter Plot\n",
    "\n",
    "With the newist version of Seaborn we have to specify x and y.\n",
    "\n",
    "example: sb.scatterplot(x = 'sepal_length', y = 'sepal_width', data = df_iris)"
   ]
  },
  {
   "cell_type": "code",
   "execution_count": 15,
   "id": "43dbcd4f",
   "metadata": {},
   "outputs": [],
   "source": [
    "#scatter plot comparing sepal length to sepal width\n"
   ]
  },
  {
   "cell_type": "markdown",
   "id": "4e6d47b5",
   "metadata": {},
   "source": [
    "Feel free to experiment and add any notes or observations here. <br><br><br><br><br>"
   ]
  },
  {
   "cell_type": "markdown",
   "id": "1277af5c",
   "metadata": {},
   "source": [
    "#### Histogram\n",
    "\n",
    "With the newist version of Seaborn they have deprecated distplot. Replace distplot with histplot and add kde = True\n",
    "\n",
    "example:\n",
    "sb.histplot(df_iris['sepal_length'], color = 'Red', label = 'Sepal Length', kde = True)"
   ]
  },
  {
   "cell_type": "code",
   "execution_count": 16,
   "id": "d0ac74c1",
   "metadata": {},
   "outputs": [],
   "source": [
    "#Histogram side by side, with kde\n"
   ]
  },
  {
   "cell_type": "markdown",
   "id": "0eb4855a",
   "metadata": {},
   "source": [
    "Feel free to experiment and add any notes or observations here. <br><br><br><br><br>"
   ]
  },
  {
   "cell_type": "markdown",
   "id": "71cdde5b",
   "metadata": {},
   "source": [
    "#### Bubble Plot"
   ]
  },
  {
   "cell_type": "code",
   "execution_count": 17,
   "id": "d6544f40",
   "metadata": {},
   "outputs": [],
   "source": [
    "# Bubble Plot\n"
   ]
  },
  {
   "cell_type": "markdown",
   "id": "9e3dde2c",
   "metadata": {},
   "source": [
    "Feel free to experiment and add any notes or observations here. <br><br><br><br><br>"
   ]
  },
  {
   "cell_type": "markdown",
   "id": "6809d6ad",
   "metadata": {},
   "source": [
    "#### Pie Chart\n",
    "\n",
    "Skip this one as the code throws an error. "
   ]
  },
  {
   "cell_type": "markdown",
   "id": "17ca2784",
   "metadata": {},
   "source": [
    "df_pie = pd.DataFrame(df.groupby('continent')['total'].sum().T)\n",
    "colors = ['gold', 'yellowgreen', 'lightcoral', 'lightskyblue', 'lightgreen', 'pink']\n",
    "explode = [0,0.1,0,0,0.1,0.1]\n",
    "\n",
    "plt.pie(df_pie, colors = colors, autopct = '%1.1f%%', startangle = 90, explode = explode, pctdistance = 1.12, shadow = True)\n",
    "plt.title('Continent-Wise Immigrants Distribution', color = 'black', y = 1.1, fontsize = 18)\n",
    "plt.legend(df_pie.index, loc = 'upper left', fontsize = 12)\n",
    "plt.axis('equal')\n",
    "plt.savefig('pie.png')\n",
    "\n",
    "plt.show()"
   ]
  },
  {
   "cell_type": "markdown",
   "id": "c2dd3923",
   "metadata": {},
   "source": [
    "#### Doughnut Chart"
   ]
  },
  {
   "cell_type": "code",
   "execution_count": 18,
   "id": "e1ed45a2",
   "metadata": {},
   "outputs": [],
   "source": [
    "# Doughnut Chart\n"
   ]
  },
  {
   "cell_type": "markdown",
   "id": "9fdda71d",
   "metadata": {},
   "source": [
    "Feel free to experiment and add any notes or observations here. <br><br><br><br><br>"
   ]
  },
  {
   "cell_type": "markdown",
   "id": "dba1dc8e",
   "metadata": {},
   "source": [
    "#### Regression Plot"
   ]
  },
  {
   "cell_type": "code",
   "execution_count": 19,
   "id": "bc5f6f24",
   "metadata": {},
   "outputs": [],
   "source": [
    "# Strong trend\n"
   ]
  },
  {
   "cell_type": "markdown",
   "id": "66c55013",
   "metadata": {},
   "source": [
    "Feel free to experiment and add any notes or observations here. <br><br><br><br><br>"
   ]
  },
  {
   "cell_type": "code",
   "execution_count": 20,
   "id": "0aeed0b5",
   "metadata": {},
   "outputs": [],
   "source": [
    "# Weak trend\n"
   ]
  },
  {
   "cell_type": "markdown",
   "id": "88bca541",
   "metadata": {},
   "source": [
    "Feel free to experiment and add any notes or observations here. <br><br><br><br><br>"
   ]
  },
  {
   "cell_type": "markdown",
   "id": "6646021e",
   "metadata": {},
   "source": [
    "#### Word Cloud\n",
    "\n",
    "You might need to pip install wordcloud and pip install Pywaffle.  Follow the instruction from when you installed cyperpunk earlier.\n",
    "\n",
    "Make sure to add the txt files from [here](https://github.com/codinglikeagirl42/DataVisualizationPython) to your data folder and remember the path is data/filename.txt. Try creating your own txt file to visualize."
   ]
  },
  {
   "cell_type": "code",
   "execution_count": 21,
   "id": "4d96e72c",
   "metadata": {},
   "outputs": [],
   "source": [
    "# word cloud\n",
    "from wordcloud import WordCloud, STOPWORDS\n"
   ]
  },
  {
   "cell_type": "markdown",
   "id": "0b7cf536",
   "metadata": {},
   "source": [
    "Feel free to experiment and add any notes or observations here. <br><br><br><br><br>"
   ]
  },
  {
   "cell_type": "markdown",
   "id": "db66a359",
   "metadata": {},
   "source": [
    "#### Lollipop Chart"
   ]
  },
  {
   "cell_type": "code",
   "execution_count": 22,
   "id": "073f2112",
   "metadata": {},
   "outputs": [],
   "source": [
    "# Lollipop chart\n"
   ]
  },
  {
   "cell_type": "markdown",
   "id": "32843553",
   "metadata": {},
   "source": [
    "Feel free to experiment and add any notes or observations here. <br><br><br><br><br>"
   ]
  },
  {
   "cell_type": "code",
   "execution_count": null,
   "id": "d01fb5e5",
   "metadata": {},
   "outputs": [],
   "source": []
  }
 ],
 "metadata": {
  "kernelspec": {
   "display_name": "Python 3 (ipykernel)",
   "language": "python",
   "name": "python3"
  },
  "language_info": {
   "codemirror_mode": {
    "name": "ipython",
    "version": 3
   },
   "file_extension": ".py",
   "mimetype": "text/x-python",
   "name": "python",
   "nbconvert_exporter": "python",
   "pygments_lexer": "ipython3",
   "version": "3.9.7"
  }
 },
 "nbformat": 4,
 "nbformat_minor": 5
}
